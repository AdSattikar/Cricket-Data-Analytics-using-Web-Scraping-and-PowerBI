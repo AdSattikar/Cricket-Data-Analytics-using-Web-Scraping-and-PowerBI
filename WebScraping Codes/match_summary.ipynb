{
 "cells": [
  {
   "cell_type": "code",
   "execution_count": 1,
   "id": "b5cb21ee",
   "metadata": {},
   "outputs": [],
   "source": [
    "import requests\n",
    "from bs4 import BeautifulSoup\n",
    "import json"
   ]
  },
  {
   "cell_type": "code",
   "execution_count": 2,
   "id": "e5ce19d6",
   "metadata": {},
   "outputs": [],
   "source": [
    "# make the HTTP request and get the page content\n",
    "url = \"https://stats.espncricinfo.com/ci/engine/records/team/match_results.html?id=15174;type=tournament\"\n",
    "response = requests.get(url)\n",
    "html = response.content\n",
    "\n",
    "# parse the HTML content with Beautiful Soup\n",
    "soup = BeautifulSoup(html, \"html.parser\")\n",
    "\n",
    "# create an array to store all the records\n",
    "match_summary = []"
   ]
  },
  {
   "cell_type": "code",
   "execution_count": 3,
   "id": "f92ce8cf",
   "metadata": {},
   "outputs": [
    {
     "name": "stdout",
     "output_type": "stream",
     "text": [
      "[{'team1': 'GG Women', 'team2': 'MI Women', 'winner': 'MI Women', 'margin': '143 runs', 'ground': 'DY Patil', 'matchDate': 'Mar 4, 2023', 'matchID': 'WT20#1'}, {'team1': 'RCB Women', 'team2': 'DC Women', 'winner': 'DC Women', 'margin': '60 runs', 'ground': 'Brabourne', 'matchDate': 'Mar 5, 2023', 'matchID': 'WT20#2'}, {'team1': 'UPW Women', 'team2': 'GG Women', 'winner': 'UPW Women', 'margin': '3 wickets', 'ground': 'DY Patil', 'matchDate': 'Mar 5, 2023', 'matchID': 'WT20#3'}, {'team1': 'MI Women', 'team2': 'RCB Women', 'winner': 'MI Women', 'margin': '9 wickets', 'ground': 'Brabourne', 'matchDate': 'Mar 6, 2023', 'matchID': 'WT20#4'}, {'team1': 'DC Women', 'team2': 'UPW Women', 'winner': 'DC Women', 'margin': '42 runs', 'ground': 'DY Patil', 'matchDate': 'Mar 7, 2023', 'matchID': 'WT20#5'}, {'team1': 'GG Women', 'team2': 'RCB Women', 'winner': 'GG Women', 'margin': '11 runs', 'ground': 'Brabourne', 'matchDate': 'Mar 8, 2023', 'matchID': 'WT20#6'}, {'team1': 'DC Women', 'team2': 'MI Women', 'winner': 'MI Women', 'margin': '8 wickets', 'ground': 'DY Patil', 'matchDate': 'Mar 9, 2023', 'matchID': 'WT20#7'}, {'team1': 'RCB Women', 'team2': 'UPW Women', 'winner': 'UPW Women', 'margin': '10 wickets', 'ground': 'Brabourne', 'matchDate': 'Mar 10, 2023', 'matchID': 'WT20#8'}, {'team1': 'GG Women', 'team2': 'DC Women', 'winner': 'DC Women', 'margin': '10 wickets', 'ground': 'DY Patil', 'matchDate': 'Mar 11, 2023', 'matchID': 'WT20#9'}, {'team1': 'UPW Women', 'team2': 'MI Women', 'winner': 'MI Women', 'margin': '8 wickets', 'ground': 'Brabourne', 'matchDate': 'Mar 12, 2023', 'matchID': 'WT20#10'}, {'team1': 'DC Women', 'team2': 'RCB Women', 'winner': 'DC Women', 'margin': '6 wickets', 'ground': 'DY Patil', 'matchDate': 'Mar 13, 2023', 'matchID': 'WT20#11'}, {'team1': 'MI Women', 'team2': 'GG Women', 'winner': 'MI Women', 'margin': '55 runs', 'ground': 'Brabourne', 'matchDate': 'Mar 14, 2023', 'matchID': 'WT20#12'}, {'team1': 'UPW Women', 'team2': 'RCB Women', 'winner': 'RCB Women', 'margin': '5 wickets', 'ground': 'DY Patil', 'matchDate': 'Mar 15, 2023', 'matchID': 'WT20#13'}, {'team1': 'DC Women', 'team2': 'GG Women', 'winner': 'GG Women', 'margin': '11 runs', 'ground': 'Brabourne', 'matchDate': 'Mar 16, 2023', 'matchID': 'WT20#14'}, {'team1': 'MI Women', 'team2': 'UPW Women', 'winner': 'UPW Women', 'margin': '5 wickets', 'ground': 'DY Patil', 'matchDate': 'Mar 18, 2023', 'matchID': 'WT20#15'}, {'team1': 'RCB Women', 'team2': 'GG Women', 'winner': 'RCB Women', 'margin': '8 wickets', 'ground': 'Brabourne', 'matchDate': 'Mar 18, 2023', 'matchID': 'WT20#16'}, {'team1': 'GG Women', 'team2': 'UPW Women', 'winner': 'UPW Women', 'margin': '3 wickets', 'ground': 'Brabourne', 'matchDate': 'Mar 20, 2023', 'matchID': 'WT20#17'}, {'team1': 'MI Women', 'team2': 'DC Women', 'winner': 'DC Women', 'margin': '9 wickets', 'ground': 'DY Patil', 'matchDate': 'Mar 20, 2023', 'matchID': 'WT20#18'}, {'team1': 'RCB Women', 'team2': 'MI Women', 'winner': 'MI Women', 'margin': '4 wickets', 'ground': 'DY Patil', 'matchDate': 'Mar 21, 2023', 'matchID': 'WT20#19'}, {'team1': 'UPW Women', 'team2': 'DC Women', 'winner': 'DC Women', 'margin': '5 wickets', 'ground': 'Brabourne', 'matchDate': 'Mar 21, 2023', 'matchID': 'WT20#20'}, {'team1': 'MI Women', 'team2': 'UPW Women', 'winner': 'MI Women', 'margin': '72 runs', 'ground': 'DY Patil', 'matchDate': 'Mar 24, 2023', 'matchID': 'WT20#21'}, {'team1': 'DC Women', 'team2': 'MI Women', 'winner': 'MI Women', 'margin': '7 wickets', 'ground': 'Brabourne', 'matchDate': 'Mar 26, 2023', 'matchID': 'WT20#22'}]\n"
     ]
    }
   ],
   "source": [
    "# select all rows we need from target table\n",
    "allRows = soup.select(\"table.engineTable > tbody > tr.data1\")\n",
    "\n",
    "# loop through each row and get the data from the cells (td)\n",
    "\n",
    "for i in range(len(allRows)):\n",
    "    row = allRows[i]\n",
    "    tds = row.find_all(\"td\")\n",
    "    match_summary.append({\n",
    "        \"team1\": tds[0].get_text(),\n",
    "        \"team2\": tds[1].get_text(),\n",
    "        \"winner\": tds[2].get_text(),\n",
    "        \"margin\": tds[3].get_text(),\n",
    "        \"ground\": tds[4].get_text(),\n",
    "        \"matchDate\": tds[5].get_text(),\n",
    "        \"matchID\": tds[6].get_text()+\"#\"+str(i+1),\n",
    "    })\n",
    "    \n",
    "\n",
    "# finally, return the data\n",
    "print(match_summary)\n"
   ]
  },
  {
   "cell_type": "code",
   "execution_count": 4,
   "id": "815afbe1",
   "metadata": {},
   "outputs": [],
   "source": [
    "with open('../WPL_json_files/match_summary.json', 'w') as f:\n",
    "    json.dump(match_summary, f, indent=4)"
   ]
  },
  {
   "cell_type": "code",
   "execution_count": null,
   "id": "31434577",
   "metadata": {},
   "outputs": [],
   "source": []
  }
 ],
 "metadata": {
  "kernelspec": {
   "display_name": "Python 3 (ipykernel)",
   "language": "python",
   "name": "python3"
  },
  "language_info": {
   "codemirror_mode": {
    "name": "ipython",
    "version": 3
   },
   "file_extension": ".py",
   "mimetype": "text/x-python",
   "name": "python",
   "nbconvert_exporter": "python",
   "pygments_lexer": "ipython3",
   "version": "3.9.0"
  }
 },
 "nbformat": 4,
 "nbformat_minor": 5
}
