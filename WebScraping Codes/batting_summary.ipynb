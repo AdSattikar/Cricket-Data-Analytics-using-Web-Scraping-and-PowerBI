{
 "cells": [
  {
   "cell_type": "code",
   "execution_count": 10,
   "id": "cc673b97",
   "metadata": {},
   "outputs": [],
   "source": [
    "import requests\n",
    "from bs4 import BeautifulSoup\n",
    "import json\n",
    "\n",
    "url = 'https://stats.espncricinfo.com/ci/engine/records/team/match_results.html?id=15174;type=tournament'\n",
    "page = requests.get(url)\n",
    "soup = BeautifulSoup(page.content, 'html.parser')"
   ]
  },
  {
   "cell_type": "code",
   "execution_count": 11,
   "id": "afa63cb8",
   "metadata": {},
   "outputs": [],
   "source": [
    "# Parser Code\n",
    "links = []\n",
    "table_rows = soup.select('table.engineTable > tbody > tr.data1')\n",
    "for row in table_rows:\n",
    "    match_url = \"https://www.espncricinfo.com\" + row.select('td')[6].select('a')[0]['href']\n",
    "    links.append(match_url)\n",
    "\n",
    "batting_summary = []"
   ]
  },
  {
   "cell_type": "code",
   "execution_count": 12,
   "id": "71e197d5",
   "metadata": {},
   "outputs": [],
   "source": [
    "\n",
    "for url in links:\n",
    "    page = requests.get(url)\n",
    "    soup = BeautifulSoup(page.content, 'html.parser')\n",
    "    match = soup.find('span', text='MATCH FLOW').parent.parent.next_sibling.find_all_next('div')\n",
    "    team1 = match[0].select('span')[0].text.replace(\" innings\",\"\")\n",
    "    team2 = match[1].select('span')[0].text.replace(\" innings\",\"\")\n",
    "    match_info = team1 + ' Vs ' + team2\n",
    "    tables = soup.select('div > table.ci-scorecard-table')\n",
    "    first_inning_rows = [row for row in tables[0].select('tbody > tr') if len(row.select('td')) >= 8]\n",
    "    second_inning_rows = [row for row in tables[1].select('tbody > tr') if len(row.select('td')) >=8]\n",
    "    summary = []\n",
    "    try:\n",
    "        \n",
    "        for i in range(0,len(first_inning_rows)):\n",
    "            # print(len(first_inning_rows))\n",
    "            row = first_inning_rows[i]\n",
    "\n",
    "            cols = row.select('td')\n",
    "            summary.append({\n",
    "                'match': match_info,\n",
    "                'teamInnings': team1,\n",
    "                'battingPos': i+1,\n",
    "                'battername': cols[0].select('a > span > span')[0].text.replace('\\xa0', ''),\n",
    "                'dismissal': cols[1].text,\n",
    "                'runs': cols[2].select('strong')[0].text,\n",
    "                'balls': cols[3].text,\n",
    "                '4s': cols[5].text,\n",
    "                '6s': cols[6].text,\n",
    "                'SR': cols[7].text\n",
    "            })\n",
    "           \n",
    "    except Exception as e:\n",
    "        print(e)\n",
    "    \n",
    "    try:        \n",
    "        for i in range(0,len(second_inning_rows)):\n",
    "            # print(len(first_inning_rows))\n",
    "            row = second_inning_rows[i]\n",
    "            cols = row.select('td')\n",
    "            summary.append({\n",
    "                'match': match_info,\n",
    "                'teamInnings': team2,\n",
    "                'battingPos': i+1,\n",
    "                'battername': cols[0].select('a > span > span')[0].text.replace('\\xa0', ''),\n",
    "                'dismissal': cols[1].text,\n",
    "                'runs': cols[2].select('strong')[0].text,\n",
    "                'balls': cols[3].text,\n",
    "                '4s': cols[5].text,\n",
    "                '6s': cols[6].text,\n",
    "                'SR': cols[7].text\n",
    "            })\n",
    "    except Exception as e:\n",
    "        print(e)\n",
    "    batting_summary.append(summary)"
   ]
  },
  {
   "cell_type": "code",
   "execution_count": 13,
   "id": "b18fcf31",
   "metadata": {},
   "outputs": [],
   "source": [
    "with open('../WPL_json_files/batting_summary.json', 'w') as f:\n",
    "    json.dump(batting_summary, f, indent=4)"
   ]
  },
  {
   "cell_type": "code",
   "execution_count": null,
   "id": "561c7955",
   "metadata": {},
   "outputs": [],
   "source": []
  }
 ],
 "metadata": {
  "kernelspec": {
   "display_name": "Python 3 (ipykernel)",
   "language": "python",
   "name": "python3"
  },
  "language_info": {
   "codemirror_mode": {
    "name": "ipython",
    "version": 3
   },
   "file_extension": ".py",
   "mimetype": "text/x-python",
   "name": "python",
   "nbconvert_exporter": "python",
   "pygments_lexer": "ipython3",
   "version": "3.9.0"
  }
 },
 "nbformat": 4,
 "nbformat_minor": 5
}
