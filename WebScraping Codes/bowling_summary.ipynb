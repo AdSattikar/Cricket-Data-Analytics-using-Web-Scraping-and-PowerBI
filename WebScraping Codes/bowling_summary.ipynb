{
 "cells": [
  {
   "cell_type": "code",
   "execution_count": 6,
   "id": "711efd5d",
   "metadata": {},
   "outputs": [],
   "source": [
    "import requests\n",
    "from bs4 import BeautifulSoup\n",
    "import json\n",
    "# ------- STAGE 1 -------\n",
    "# Interaction Code\n",
    "url = 'https://stats.espncricinfo.com/ci/engine/records/team/match_results.html?id=15174;type=tournament'\n",
    "page = requests.get(url)\n",
    "soup = BeautifulSoup(page.content, 'html.parser')"
   ]
  },
  {
   "cell_type": "code",
   "execution_count": 7,
   "id": "c54a6bd8",
   "metadata": {},
   "outputs": [],
   "source": [
    "# Parser Code\n",
    "links = []\n",
    "table_rows = soup.select('table.engineTable > tbody > tr.data1')\n",
    "for row in table_rows:\n",
    "    match_url = \"https://www.espncricinfo.com\" + row.select('td')[6].select('a')[0]['href']\n",
    "    links.append(match_url)\n",
    "# Next Stag"
   ]
  },
  {
   "cell_type": "code",
   "execution_count": 8,
   "id": "b2d977ea",
   "metadata": {},
   "outputs": [],
   "source": [
    "bowling_summary = []"
   ]
  },
  {
   "cell_type": "code",
   "execution_count": 9,
   "id": "9fd60c66",
   "metadata": {
    "scrolled": true
   },
   "outputs": [],
   "source": [
    "for url in links:\n",
    "    page = requests.get(url)\n",
    "    soup = BeautifulSoup(page.content, 'html.parser')\n",
    "    match = soup.find('span', text='MATCH FLOW').parent.parent.next_sibling.find_all_next('div')\n",
    "    team1 = match[1].select('span')[0].text.replace(\" innings\",\"\")\n",
    "    team2 = match[0].select('span')[0].text.replace(\" innings\",\"\")\n",
    "    match_info = team1 + ' Vs ' + team2   \n",
    "    tables = soup.select('div > table.ds-table')\n",
    "    first_inning_rows = [row for row in tables[1].select('tbody > tr') if len(row.select('td')) >= 11]\n",
    "    second_inning_rows = [row for row in tables[3].select('tbody > tr') if len(row.select('td')) >=11]\n",
    "    summary = []\n",
    "    try:\n",
    "        \n",
    "       for i in range(0,len(first_inning_rows)):\n",
    "            row = first_inning_rows[i]\n",
    "\n",
    "            cols = row.select('td')\n",
    "            summary.append({\n",
    "                'match': match_info,\n",
    "                'bowlingTeam': team1,\n",
    "                'bowlerName': cols[0].select('a > span')[0].text,\n",
    "                'overs': cols[1].text,\n",
    "                'maiden': cols[2].text,\n",
    "                'runs': cols[3].text,\n",
    "                'wickets': cols[4].text,\n",
    "                'economy': cols[5].text,\n",
    "                '0s': cols[6].text,\n",
    "                '4s': cols[7].text,\n",
    "                '6s': cols[8].text,\n",
    "                'wides': cols[9].text,\n",
    "                'noBalls': cols[10].text\n",
    "            })\n",
    "           \n",
    "           \n",
    "    except Exception as e:\n",
    "        print(e)\n",
    "    \n",
    "    try:        \n",
    "        for i in range(0,len(second_inning_rows)):\n",
    "            row = second_inning_rows[i]\n",
    "            cols = row.select('td')\n",
    "            summary.append({\n",
    "                'match': match_info,\n",
    "                'bowlingTeam': team2,\n",
    "                'bowlerName': cols[0].select('a > span')[0].text,\n",
    "                'overs': cols[1].text,\n",
    "                'maiden': cols[2].text,\n",
    "                'runs': cols[3].text,\n",
    "                'wickets': cols[4].text,\n",
    "                'economy': cols[5].text,\n",
    "                '0s': cols[6].text,\n",
    "                '4s': cols[7].text,\n",
    "                '6s': cols[8].text,\n",
    "                'wides': cols[9].text,\n",
    "                'noBalls': cols[10].text\n",
    "            })\n",
    "       \n",
    "    except Exception as e:\n",
    "        print(e)\n",
    "    bowling_summary.append(summary)"
   ]
  },
  {
   "cell_type": "code",
   "execution_count": 10,
   "id": "da624edf",
   "metadata": {},
   "outputs": [],
   "source": [
    "with open('../WPL_json_files/bowling_summary.json', 'w') as f:\n",
    "    json.dump(bowling_summary, f, indent=4)"
   ]
  }
 ],
 "metadata": {
  "kernelspec": {
   "display_name": "Python 3 (ipykernel)",
   "language": "python",
   "name": "python3"
  },
  "language_info": {
   "codemirror_mode": {
    "name": "ipython",
    "version": 3
   },
   "file_extension": ".py",
   "mimetype": "text/x-python",
   "name": "python",
   "nbconvert_exporter": "python",
   "pygments_lexer": "ipython3",
   "version": "3.9.0"
  }
 },
 "nbformat": 4,
 "nbformat_minor": 5
}
